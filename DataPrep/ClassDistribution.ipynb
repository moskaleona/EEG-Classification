{
 "cells": [
  {
   "cell_type": "code",
   "execution_count": 1,
   "metadata": {
    "collapsed": true
   },
   "outputs": [],
   "source": [
    "from __future__ import print_function\n",
    "import scipy.io\n",
    "import numpy as np"
   ]
  },
  {
   "cell_type": "code",
   "execution_count": 2,
   "metadata": {
    "collapsed": true
   },
   "outputs": [],
   "source": [
    "path_to_data = 'write_your_path'\n",
    "data = scipy.io.loadmat(os.path.join(path_to_data,'FeatureMat_timeWin.mat'))['features']"
   ]
  },
  {
   "cell_type": "code",
   "execution_count": 3,
   "metadata": {},
   "outputs": [
    {
     "name": "stdout",
     "output_type": "stream",
     "text": [
      "Percent of positive class: 60.89 %\t4200.0 trials\n",
      "Percent of negative class: 39.11 %\t2698.0 trials\n"
     ]
    }
   ],
   "source": [
    "# Class distribution (for all subjects)\n",
    "labels = data[:,-1]\n",
    "print('Percent of positive class: {:.2f} %\\t{} trials'.format(np.sum(labels)/len(labels)*100, np.sum(labels)))\n",
    "print('Percent of negative class: {:.2f} %\\t{} trials'.format(np.sum(1 - labels)/len(labels)*100, np.sum(1 - labels)))"
   ]
  },
  {
   "cell_type": "code",
   "execution_count": 4,
   "metadata": {
    "collapsed": true,
    "scrolled": true
   },
   "outputs": [],
   "source": [
    "trialsubs = scipy.io.loadmat(os.path.join(path_to_data,'trials_subNums.mat'))['subjectNum']"
   ]
  },
  {
   "cell_type": "code",
   "execution_count": 5,
   "metadata": {
    "collapsed": true
   },
   "outputs": [],
   "source": [
    "data_per_sub = {}\n",
    "for sub_num in np.unique(np.ravel(trialsubs)):\n",
    "    data_per_sub.update({str(sub_num) : labels[np.ravel(trialsubs)==sub_num]})"
   ]
  },
  {
   "cell_type": "code",
   "execution_count": 6,
   "metadata": {},
   "outputs": [
    {
     "name": "stdout",
     "output_type": "stream",
     "text": [
      "Subject number: 25\n",
      "Percent of positive class: 71.73 %, 236 trials\n",
      "Percent of negative class: 28.27 %, 93 trials\n",
      "Total: 329 trials\n",
      "Subject number: 26\n",
      "Percent of positive class: 77.83 %, 323 trials\n",
      "Percent of negative class: 22.17 %, 92 trials\n",
      "Total: 415 trials\n",
      "Subject number: 27\n",
      "Percent of positive class: 70.92 %, 356 trials\n",
      "Percent of negative class: 29.08 %, 146 trials\n",
      "Total: 502 trials\n",
      "Subject number: 28\n",
      "Percent of positive class: 53.22 %, 256 trials\n",
      "Percent of negative class: 46.78 %, 225 trials\n",
      "Total: 481 trials\n",
      "Subject number: 29\n",
      "Percent of positive class: 57.25 %, 316 trials\n",
      "Percent of negative class: 42.75 %, 236 trials\n",
      "Total: 552 trials\n",
      "Subject number: 30\n",
      "Percent of positive class: 62.97 %, 284 trials\n",
      "Percent of negative class: 37.03 %, 167 trials\n",
      "Total: 451 trials\n",
      "Subject number: 32\n",
      "Percent of positive class: 84.63 %, 413 trials\n",
      "Percent of negative class: 15.37 %, 75 trials\n",
      "Total: 488 trials\n",
      "Subject number: 33\n",
      "Percent of positive class: 64.03 %, 372 trials\n",
      "Percent of negative class: 35.97 %, 209 trials\n",
      "Total: 581 trials\n",
      "Subject number: 34\n",
      "Percent of positive class: 48.63 %, 301 trials\n",
      "Percent of negative class: 51.37 %, 318 trials\n",
      "Total: 619 trials\n",
      "Subject number: 35\n",
      "Percent of positive class: 49.19 %, 302 trials\n",
      "Percent of negative class: 50.81 %, 312 trials\n",
      "Total: 614 trials\n",
      "Subject number: 36\n",
      "Percent of positive class: 62.08 %, 352 trials\n",
      "Percent of negative class: 37.92 %, 215 trials\n",
      "Total: 567 trials\n",
      "Subject number: 37\n",
      "Percent of positive class: 51.35 %, 343 trials\n",
      "Percent of negative class: 48.65 %, 325 trials\n",
      "Total: 668 trials\n",
      "Subject number: 38\n",
      "Percent of positive class: 54.83 %, 346 trials\n",
      "Percent of negative class: 45.17 %, 285 trials\n",
      "Total: 631 trials\n"
     ]
    }
   ],
   "source": [
    "# Class distribution for each subject separately\n",
    "for  k in sorted(data_per_sub.keys(), key=int):\n",
    "    print('Subject number:', k)\n",
    "    print('Percent of positive class: {:.2f} %, {:.0f} trials'.format(data_per_sub[k].sum()/len(data_per_sub[k])*100,\\\n",
    "                                                       data_per_sub[k].sum()))\n",
    "    print('Percent of negative class: {:.2f} %, {:.0f} trials'.format(np.sum(1 - data_per_sub[k])/len(data_per_sub[k])*100,\\\n",
    "                                                     np.sum(1-data_per_sub[k])))\n",
    "    print('Total: %d trials'%len(data_per_sub[k]))"
   ]
  },
  {
   "cell_type": "code",
   "execution_count": 7,
   "metadata": {
    "collapsed": true
   },
   "outputs": [],
   "source": [
    "import matplotlib.pyplot as plt"
   ]
  },
  {
   "cell_type": "code",
   "execution_count": 8,
   "metadata": {},
   "outputs": [
    {
     "data": {
      "image/png": "[encoded data removed]",
      "text/plain": [
       "<matplotlib.figure.Figure at 0x7fbb6bd319d0>"
      ]
     },
     "metadata": {},
     "output_type": "display_data"
    }
   ],
   "source": [
    "% matplotlib inline\n",
    "plt.hist([data[:,-1],1-(data[:,-1])])\n",
    "plt.show()"
   ]
  },
  {
   "cell_type": "code",
   "execution_count": null,
   "metadata": {
    "collapsed": true
   },
   "outputs": [],
   "source": []
  }
 ],
 "metadata": {
  "kernelspec": {
   "display_name": "Python 2",
   "language": "python",
   "name": "python2"
  },
  "language_info": {
   "codemirror_mode": {
    "name": "ipython",
    "version": 2
   },
   "file_extension": ".py",
   "mimetype": "text/x-python",
   "name": "python",
   "nbconvert_exporter": "python",
   "pygments_lexer": "ipython2",
   "version": "2.7.14"
  }
 },
 "nbformat": 4,
 "nbformat_minor": 2
}
