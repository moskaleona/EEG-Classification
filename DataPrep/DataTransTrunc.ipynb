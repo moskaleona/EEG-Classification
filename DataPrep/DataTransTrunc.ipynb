{
 "cells": [
  {
   "cell_type": "markdown",
   "metadata": {},
   "source": [
    "## Data transforming for applying EEGlearn on them\n",
    "Input: several files .mat with 3D matrix (time x channels x trials) \n",
    "Output: one or several files .mat with 2D matrix (trials x features)\n",
    "The difference between this code and that of DataTransTimeWin.ipynb is that \n",
    "there is also data truncation processed here (smaller time interval).\n",
    "\n",
    "\n",
    "Here is a preparation of data to use EEGlearn.\n"
   ]
  },
  {
   "cell_type": "code",
   "execution_count": 1,
   "metadata": {
    "collapsed": true
   },
   "outputs": [],
   "source": [
    "from __future__ import print_function\n",
    "import scipy.io\n",
    "import scipy.fftpack as sfp\n",
    "import numpy as np\n",
    "import os"
   ]
  },
  {
   "cell_type": "code",
   "execution_count": 5,
   "metadata": {
    "collapsed": true
   },
   "outputs": [],
   "source": [
    "T = 0.1 # Period of one time window (seconds)\n",
    "elNum = 19 # Number of electrodes\n",
    "win = 4 # Number of time windows\n",
    "data = []\n",
    "subNums = []\n",
    "trial_subNums = []\n",
    "path_to_data = 'write_your_path'\n",
    "features = np.array([]).reshape(0, elNum * 3 * win + 1) # Array for features, (3 frequency bands*windows) + 1 for label"
   ]
  },
  {
   "cell_type": "code",
   "execution_count": 6,
   "metadata": {},
   "outputs": [
    {
     "name": "stdout",
     "output_type": "stream",
     "text": [
      "/home/moskaleona/alenadir/data/rawData/38/eegNT.mat is loaded\n",
      "/home/moskaleona/alenadir/data/rawData/38/eegT.mat is loaded\n",
      "/home/moskaleona/alenadir/data/rawData/36/eegNT.mat is loaded\n",
      "/home/moskaleona/alenadir/data/rawData/36/eegT.mat is loaded\n",
      "/home/moskaleona/alenadir/data/rawData/28/eegNT.mat is loaded\n",
      "/home/moskaleona/alenadir/data/rawData/28/eegT.mat is loaded\n",
      "/home/moskaleona/alenadir/data/rawData/34/eegNT.mat is loaded\n",
      "/home/moskaleona/alenadir/data/rawData/34/eegT.mat is loaded\n",
      "/home/moskaleona/alenadir/data/rawData/32/eegNT.mat is loaded\n",
      "/home/moskaleona/alenadir/data/rawData/32/eegT.mat is loaded\n",
      "/home/moskaleona/alenadir/data/rawData/27/eegNT.mat is loaded\n",
      "/home/moskaleona/alenadir/data/rawData/27/eegT.mat is loaded\n",
      "/home/moskaleona/alenadir/data/rawData/37/eegNT.mat is loaded\n",
      "/home/moskaleona/alenadir/data/rawData/37/eegT.mat is loaded\n",
      "/home/moskaleona/alenadir/data/rawData/35/eegNT.mat is loaded\n",
      "/home/moskaleona/alenadir/data/rawData/35/eegT.mat is loaded\n",
      "/home/moskaleona/alenadir/data/rawData/33/eegNT.mat is loaded\n",
      "/home/moskaleona/alenadir/data/rawData/33/eegT.mat is loaded\n",
      "/home/moskaleona/alenadir/data/rawData/30/eegNT.mat is loaded\n",
      "/home/moskaleona/alenadir/data/rawData/30/eegT.mat is loaded\n",
      "/home/moskaleona/alenadir/data/rawData/29/eegNT.mat is loaded\n",
      "/home/moskaleona/alenadir/data/rawData/29/eegT.mat is loaded\n",
      "/home/moskaleona/alenadir/data/rawData/26/eegNT.mat is loaded\n",
      "/home/moskaleona/alenadir/data/rawData/26/eegT.mat is loaded\n",
      "/home/moskaleona/alenadir/data/rawData/25/eegNT.mat is loaded\n",
      "/home/moskaleona/alenadir/data/rawData/25/eegT.mat is loaded\n"
     ]
    }
   ],
   "source": [
    "for subdir in os.listdir(path_to_data):\n",
    "    for file in os.listdir(os.path.join(path_to_data,subdir)):\n",
    "        subNums.append(int(subdir))\n",
    "        data.append(scipy.io.loadmat(os.path.join(path_to_data,subdir, file)))\n",
    "        print('{0}/{1}/{2} is loaded'.format(path_to_data, subdir, file))"
   ]
  },
  {
   "cell_type": "code",
   "execution_count": 7,
   "metadata": {
    "collapsed": true
   },
   "outputs": [],
   "source": [
    "def trunc(data, freq=500, time_old=(-0.5,1), time_new=(0.1,0.5)):\n",
    "    return data[int(freq*(time_new[0]-time_old[0])):int(freq*(time_new[1]-time_old[0]))]"
   ]
  },
  {
   "cell_type": "code",
   "execution_count": 8,
   "metadata": {},
   "outputs": [
    {
     "data": {
      "text/plain": [
       "(750, 19, 346)"
      ]
     },
     "execution_count": 8,
     "metadata": {},
     "output_type": "execute_result"
    }
   ],
   "source": [
    "data[1].get('eegT').shape"
   ]
  },
  {
   "cell_type": "code",
   "execution_count": 6,
   "metadata": {
    "scrolled": true
   },
   "outputs": [
    {
     "name": "stdout",
     "output_type": "stream",
     "text": [
      "!.............................................................................................................................................................................................................................................................................................\n",
      "!..........................................................................................................................................................................................................................................................................................................................................................\n",
      "!.......................................................................................................................................................................................................................\n",
      "!................................................................................................................................................................................................................................................................................................................................................................\n",
      "!.................................................................................................................................................................................................................................\n",
      "!................................................................................................................................................................................................................................................................\n",
      "!..............................................................................................................................................................................................................................................................................................................................\n",
      "!.............................................................................................................................................................................................................................................................................................................\n",
      "!...........................................................................\n",
      "!.............................................................................................................................................................................................................................................................................................................................................................................................................................\n",
      "!..................................................................................................................................................\n",
      "!....................................................................................................................................................................................................................................................................................................................................................................\n",
      "!.....................................................................................................................................................................................................................................................................................................................................\n",
      "!.......................................................................................................................................................................................................................................................................................................................................................\n",
      "!........................................................................................................................................................................................................................................................................................................................\n",
      "!..............................................................................................................................................................................................................................................................................................................\n",
      "!.................................................................................................................................................................................................................\n",
      "!....................................................................................................................................................................................................................................................................................................................................................................................\n",
      "!.......................................................................................................................................................................\n",
      "!............................................................................................................................................................................................................................................................................................\n",
      "!............................................................................................................................................................................................................................................\n",
      "!............................................................................................................................................................................................................................................................................................................................\n",
      "!............................................................................................\n",
      "!...................................................................................................................................................................................................................................................................................................................................\n",
      "!.............................................................................................\n",
      "!............................................................................................................................................................................................................................................\n",
      "Array is made!\n"
     ]
    }
   ],
   "source": [
    "# Making one 2D array from data\n",
    "for i in range(len(data)):\n",
    "    dic = data[i]\n",
    "    label = 1 if 'eegT' in dic.keys() else 0\n",
    "    matrix = dic.get('eegT') if label == 1 else dic.get('eegNT') \n",
    "    matrix = trunc(matrix)\n",
    "    N = matrix.shape[0]//win # Number of points for one time window\n",
    "    if elNum != matrix.shape[1]:\n",
    "        raise elNumException('Wrong number of electrodes!')\n",
    "    line = np.zeros((1,elNum*3*win + 1), dtype = 'float64') # (3 frequency bands (theta, alpha, beta)*windows) plus 1 \n",
    "                                                            # for label\n",
    "    \n",
    "    for _ in range(matrix.shape[2]):\n",
    "        trial_subNums.append(subNums[i]) # subject numbers associated with each trial (for leave-subject-out\n",
    "                                         #  cross validation).\n",
    "        \n",
    "    print('!',end='')\n",
    "    for trialNum in range(matrix.shape[2]):\n",
    "        for el in range(elNum):\n",
    "            trial = matrix[:, el, trialNum]\n",
    "            for w in range(win):\n",
    "                timewin = trial[w * N : (w+1) * N]\n",
    "                # trial -= np.mean(trial) to get rid of zero frequency in fft (e.g. for visualization of fft)\n",
    "                A = abs(sfp.fft(timewin))/N # Real amplitudes of sinusoids\n",
    "                Hz = np.array([k/T for k in range(N)]) # Frequences in hertz\n",
    "                # Computing the sum of squared absolute values within each of the three\n",
    "                # frequency bands of theta (4-7Hz), alpha (8-13Hz), and beta(13-30Hz)\n",
    "                theta = ((A[[np.all([Hz[k] < 7, Hz[k] >= 4]) for k in range(N)]])**2).sum()\n",
    "                alpha = ((A[[np.all([Hz[k] < 13, Hz[k] >= 7]) for k in range(N)]])**2).sum()\n",
    "                beta = ((A[[np.all([Hz[k] <= 30, Hz[k] >= 13]) for k in range(N)]])**2).sum()\n",
    "                line[:,elNum*3*w + el], line[:,elNum*(3*w + 1)+ el], line[:,elNum*(3*w + 2)+ el] = theta, alpha, beta\n",
    "        line[:,-1] = label\n",
    "        features = np.concatenate((features, line))\n",
    "        print('.',end='')\n",
    "    print()\n",
    "print('Array is made!')"
   ]
  },
  {
   "cell_type": "code",
   "execution_count": 7,
   "metadata": {
    "collapsed": true
   },
   "outputs": [],
   "source": [
    "# Saving FeatureMat_timeWin.mat and Saving trial_subNums.mat\n",
    "path_to_new_data = 'write_your_path'\n",
    "featureMatrix = np.array(features, ndmin =2)\n",
    "featureDict = dict([('features', featureMatrix), ])\n",
    "scipy.io.savemat(os.path.join(path_to_new_data,'FeatureMat_timeWin.mat'), featureDict)\n",
    "\n",
    "trial_subMatrix = np.array(trial_subNums, ndmin =2)\n",
    "trial_subDict = dict([('subjectNum', trial_subMatrix), ])\n",
    "scipy.io.savemat(os.path.join(path_to_new_data, 'trials_subNums.mat'), trial_subDict)"
   ]
  },
  {
   "cell_type": "code",
   "execution_count": 8,
   "metadata": {},
   "outputs": [
    {
     "name": "stdout",
     "output_type": "stream",
     "text": [
      "Saving FeatureMat_timeWin25.mat\n",
      "Saving trials_subNums25.mat\n",
      "Saving FeatureMat_timeWin26.mat\n",
      "Saving trials_subNums26.mat\n",
      "Saving FeatureMat_timeWin27.mat\n",
      "Saving trials_subNums27.mat\n",
      "Saving FeatureMat_timeWin38.mat\n",
      "Saving trials_subNums38.mat\n",
      "Saving FeatureMat_timeWin33.mat\n",
      "Saving trials_subNums33.mat\n",
      "Saving FeatureMat_timeWin32.mat\n",
      "Saving trials_subNums32.mat\n",
      "Saving FeatureMat_timeWin30.mat\n",
      "Saving trials_subNums30.mat\n",
      "Saving FeatureMat_timeWin28.mat\n",
      "Saving trials_subNums28.mat\n",
      "Saving FeatureMat_timeWin29.mat\n",
      "Saving trials_subNums29.mat\n",
      "Saving FeatureMat_timeWin35.mat\n",
      "Saving trials_subNums35.mat\n",
      "Saving FeatureMat_timeWin34.mat\n",
      "Saving trials_subNums34.mat\n",
      "Saving FeatureMat_timeWin36.mat\n",
      "Saving trials_subNums36.mat\n",
      "Saving FeatureMat_timeWin37.mat\n",
      "Saving trials_subNums37.mat\n"
     ]
    }
   ],
   "source": [
    "# Use this for making separate files for different subjects\n",
    "path_to_separated_data = 'write_your_path'\n",
    "alldata = scipy.io.loadmat(os.path.join(path_to_new_data,'FeatureMat_timeWin.mat'))['features']\n",
    "trialsubs = scipy.io.loadmat(os.path.join(path_to_new_data, 'trials_subNums.mat'))['subjectNum']\n",
    "\n",
    "data_per_sub = {}\n",
    "for sub_num in np.unique(np.ravel(trialsubs)):\n",
    "    data_per_sub.update({str(sub_num) : alldata[np.ravel(trialsubs)==sub_num]})\n",
    "    \n",
    "for k in data_per_sub.keys():\n",
    "    oneSubDict = dict([('features', data_per_sub[k]), ])\n",
    "    print('Saving FeatureMat_timeWin' + k + '.mat')\n",
    "    scipy.io.savemat(os.path.join(path_to_separated_data, 'FeatureMat_timeWin' + k + '.mat'), oneSubDict)\n",
    "    \n",
    "    trials_sub = np.array([int(k)] * data_per_sub[k].shape[0]).reshape(1,-1)\n",
    "    trialsSubDict = dict([('subjectNum',trials_sub), ])\n",
    "    print('Saving trials_subNums' + k + '.mat')\n",
    "    scipy.io.savemat(os.path.join(path_to_separated_data, 'trials_subNums' + k + '.mat'), trialsSubDict)\n",
    "    "
   ]
  },
  {
   "cell_type": "code",
   "execution_count": null,
   "metadata": {
    "collapsed": true
   },
   "outputs": [],
   "source": []
  }
 ],
 "metadata": {
  "kernelspec": {
   "display_name": "Python 2",
   "language": "python",
   "name": "python2"
  },
  "language_info": {
   "codemirror_mode": {
    "name": "ipython",
    "version": 2
   },
   "file_extension": ".py",
   "mimetype": "text/x-python",
   "name": "python",
   "nbconvert_exporter": "python",
   "pygments_lexer": "ipython2",
   "version": "2.7.14"
  }
 },
 "nbformat": 4,
 "nbformat_minor": 2
}
