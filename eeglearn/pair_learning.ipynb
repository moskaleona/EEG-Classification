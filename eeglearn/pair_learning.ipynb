{
 "cells": [
  {
   "cell_type": "markdown",
   "metadata": {},
   "source": [
    "# Training with gpu"
   ]
  },
  {
   "cell_type": "code",
   "execution_count": null,
   "metadata": {},
   "outputs": [],
   "source": [
    "from __future__ import print_function\n",
    "from sklearn.model_selection import StratifiedKFold as SKFold\n",
    "import os\n",
    "os.environ[\"THEANO_FLAGS\"] = \"mode=FAST_RUN,device=gpu1,floatX=float32\"\n",
    "import eeg_cnn_funcs\n",
    "from eeg_cnn_funcs import *\n",
    "import numpy as np\n",
    "import os\n",
    "import random"
   ]
  },
  {
   "cell_type": "code",
   "execution_count": null,
   "metadata": {
    "collapsed": true
   },
   "outputs": [],
   "source": [
    "path_to_data = '/home/moskaleona/alenadir/data/dataSepWins/'\n",
    "path_to_results = '/home/moskaleona/alenadir/results/pair_learning/'\n",
    "file_aucs = '/home/moskaleona/alenadir/results/pair_learning/aucs.txt'\n",
    "subnums = [25,26,27,28,29,30,32,33,34,35,36,37,38]"
   ]
  },
  {
   "cell_type": "code",
   "execution_count": null,
   "metadata": {},
   "outputs": [],
   "source": [
    "elNum, locs_2d = loadlocs(path_to_data)"
   ]
  },
  {
   "cell_type": "code",
   "execution_count": null,
   "metadata": {
    "collapsed": true
   },
   "outputs": [],
   "source": [
    "learning_rate = 1e-4\n",
    "l1_coef = 1e-5\n",
    "l2_coef = 1e-3\n",
    "dropout = 0.75\n",
    "#hyperparams = [[5e-4, 1e-4, 1e-5, 0.25],\n",
    "#               [1e-4, 1e-5, 1e-3, 0.75]]"
   ]
  },
  {
   "cell_type": "markdown",
   "metadata": {},
   "source": [
    "## Pair learning\n",
    "Concatenation of subject A and subject B and then trainig and validation on such data."
   ]
  },
  {
   "cell_type": "code",
   "execution_count": null,
   "metadata": {
    "scrolled": false
   },
   "outputs": [],
   "source": [
    "from sklearn.model_selection import train_test_split\n",
    "n_epochs = 2\n",
    "for i_sub in subnums:\n",
    "    i_X= scipy.io.loadmat(os.path.join(path_to_data,'FeatureMat_timeWin' + str(i_sub) +'.mat'))['features']\n",
    "    i_y = np.squeeze(i_X[:, -1])\n",
    "    for j_sub in subnums:\n",
    "        if i_sub == j_sub:\n",
    "            continue\n",
    "        elif i_sub < j_sub:\n",
    "            seed = 1\n",
    "        else:\n",
    "            seed = 2  \n",
    "        path = os.path.join(path_to_results, str(i_sub)+str(j_sub)) + '/'\n",
    "        if not os.path.isdir(path):\n",
    "            os.mkdir(path)\n",
    "        \n",
    "        j_X = scipy.io.loadmat(os.path.join(path_to_data, 'FeatureMat_timeWin' + str(j_sub) +'.mat'))['features']\n",
    "        j_y = np.squeeze(j_X[:, -1])\n",
    "        \n",
    "        i_X_train, i_X_test, i_y_train, i_y_test = train_test_split(i_X, i_y, test_size=0.2, random_state=seed)\n",
    "        j_X_train, j_X_test, j_y_train, j_y_test = train_test_split(j_X, j_y, test_size=0.2, random_state=seed)\n",
    "        \n",
    "        X_train = np.vstack((i_X_train, j_X_train))\n",
    "        y_train = np.hstack((i_y_train, j_y_train))\n",
    "        X_test = np.vstack((i_X_test, j_X_test))\n",
    "        y_test= np.hstack((i_y_test, j_y_test))\n",
    "        \n",
    "        np.random.seed(seed)\n",
    "        train_ind = np.arange(X_train.shape[0])\n",
    "        test_ind = np.arange(X_test.shape[0])\n",
    "        np.random.shuffle(train_ind)\n",
    "        np.random.shuffle(test_ind)\n",
    "        X_train = X_train[train_ind]\n",
    "        X_test = X_test[test_ind]\n",
    "        y_train = y_train[train_ind]\n",
    "        y_test = y_test[test_ind]\n",
    "        \n",
    "        print('Xtrain=%s, Xtest=%s, ytrain=%s, ytest=%s'%(X_train.shape,X_test.shape,y_train.shape, y_test.shape))\n",
    "        print(y_train.mean(), y_test.mean())\n",
    "\n",
    "        # Conv-LSTM Mode\n",
    "        print('Generating images for all time windows...')\n",
    "        images_train = np.array([gen_images(np.array(locs_2d), X_train[:, i * (3 * elNum):(i + 1) * (3 * elNum)],\n",
    "                                          32, normalize=False) for i in\n",
    "                                range(X_train.shape[1] / (3 * elNum))\n",
    "                                ])\n",
    "        images_test = np.array([gen_images(np.array(locs_2d), X_test[:, i * (3 * elNum):(i + 1) * (3 * elNum)],\n",
    "                                          32, normalize=False) for i in\n",
    "                                range(X_test.shape[1] / (3 * elNum))\n",
    "                                ])\n",
    "\n",
    "        print('\\n')\n",
    "\n",
    "    \n",
    "        # Training (LSTM)\n",
    "        print('Training the LSTM-CONV Model for {0}&{1} .'.format(i_sub, j_sub) +\n",
    "                    'Params: lr={0}, l1={1}, l2={2}, dr={3}'.format(learning_rate, l1_coef, l2_coef, dropout))\n",
    "    \n",
    "        with open(file_aucs, 'a') as f:\n",
    "            f.write('Auc for %d & %d: '%(i_sub, j_sub))\n",
    "        train_test(images_train, images_test, y_train, y_test,\n",
    "                            'mix', path, filename=file_aucs, num_epochs=n_epochs,\n",
    "                            learning_rate=learning_rate, l1_coef=l1_coef, l2_coef=l2_coef, dropout=dropout)\n"
   ]
  },
  {
   "cell_type": "code",
   "execution_count": null,
   "metadata": {
    "collapsed": true
   },
   "outputs": [],
   "source": [
    "# Output was overloaded, so it finished in a wrong way in the middle of the cycle\n",
    "from sklearn.model_selection import train_test_split\n",
    "n_epochs = 200\n",
    "for i_sub in [33,]: #[34, 35, 36, 37, 38]:\n",
    "    i_X= scipy.io.loadmat(os.path.join(path_to_data,'FeatureMat_timeWin' + str(i_sub) +'.mat'))['features']\n",
    "    i_y = np.squeeze(i_X[:, -1])\n",
    "    for j_sub in [38,]:#subnums:\n",
    "        if i_sub == j_sub:\n",
    "            continue\n",
    "        elif i_sub < j_sub:\n",
    "            seed = 1\n",
    "        else:\n",
    "            seed = 2  \n",
    "        path = os.path.join(path_to_results, str(i_sub)+str(j_sub)) + '/'\n",
    "        if not os.path.isdir(path):\n",
    "            os.mkdir(path)\n",
    "        \n",
    "        j_X = scipy.io.loadmat(os.path.join(path_to_data, 'FeatureMat_timeWin' + str(j_sub) +'.mat'))['features']\n",
    "        j_y = np.squeeze(j_X[:, -1])\n",
    "        \n",
    "        i_X_train, i_X_test, i_y_train, i_y_test = train_test_split(i_X, i_y, test_size=0.2, random_state=seed)\n",
    "        j_X_train, j_X_test, j_y_train, j_y_test = train_test_split(j_X, j_y, test_size=0.2, random_state=seed)\n",
    "        \n",
    "        X_train = np.vstack((i_X_train, j_X_train))\n",
    "        y_train = np.hstack((i_y_train, j_y_train))\n",
    "        X_test = np.vstack((i_X_test, j_X_test))\n",
    "        y_test= np.hstack((i_y_test, j_y_test))\n",
    "        \n",
    "        np.random.seed(seed)\n",
    "        train_ind = np.arange(X_train.shape[0])\n",
    "        test_ind = np.arange(X_test.shape[0])\n",
    "        np.random.shuffle(train_ind)\n",
    "        np.random.shuffle(test_ind)\n",
    "        X_train = X_train[train_ind]\n",
    "        X_test = X_test[test_ind]\n",
    "        y_train = y_train[train_ind]\n",
    "        y_test = y_test[test_ind]\n",
    "\n",
    "        # Conv-LSTM Mode\n",
    "        # print('Generating images for all time windows...')\n",
    "        images_train = np.array([gen_images(np.array(locs_2d), X_train[:, i * (3 * elNum):(i + 1) * (3 * elNum)],\n",
    "                                          32, normalize=False) for i in\n",
    "                                range(X_train.shape[1] / (3 * elNum))\n",
    "                                ])\n",
    "        images_test = np.array([gen_images(np.array(locs_2d), X_test[:, i * (3 * elNum):(i + 1) * (3 * elNum)],\n",
    "                                          32, normalize=False) for i in\n",
    "                                range(X_test.shape[1] / (3 * elNum))\n",
    "                                ])\n",
    "\n",
    "        print('\\n')\n",
    "\n",
    "    \n",
    "        # Training (LSTM)\n",
    "        print('Training the LSTM-CONV Model for {0}&{1} .'.format(i_sub, j_sub) +\n",
    "                    'Params: lr={0}, l1={1}, l2={2}, dr={3}'.format(learning_rate, l1_coef, l2_coef, dropout))\n",
    "    \n",
    "        with open(file_aucs, 'a') as f:\n",
    "            f.write('Auc for %d & %d: '%(i_sub, j_sub))\n",
    "        train_test(images_train, images_test, y_train, y_test,\n",
    "                            'mix', path, filename=file_aucs, num_epochs=n_epochs,\n",
    "                            learning_rate=learning_rate, l1_coef=l1_coef, l2_coef=l2_coef, dropout=dropout)\n"
   ]
  },
  {
   "cell_type": "markdown",
   "metadata": {},
   "source": [
    "## Training on A, testing on B"
   ]
  },
  {
   "cell_type": "code",
   "execution_count": null,
   "metadata": {
    "collapsed": true
   },
   "outputs": [],
   "source": [
    "file_aucs_AB = '/home/moskaleona/alenadir/results/pair_learning/aucsAB.txt'\n",
    "n_epochs = 200\n",
    "for i_sub in subnums:\n",
    "    X_train = scipy.io.loadmat(os.path.join(path_to_data,'FeatureMat_timeWin' + str(i_sub) +'.mat'))['features']\n",
    "    y_train = np.squeeze(X_train[:, -1])\n",
    "    for j_sub in subnums:\n",
    "        if i_sub == j_sub:\n",
    "            continue\n",
    "        elif i_sub < j_sub:\n",
    "            seed = 1\n",
    "        else:\n",
    "            seed = 2  \n",
    "        path = os.path.join(path_to_results, str(i_sub)+str(j_sub)) + '/'\n",
    "        if not os.path.isdir(path):\n",
    "            os.mkdir(path)\n",
    "        \n",
    "        X_test = scipy.io.loadmat(os.path.join(path_to_data, 'FeatureMat_timeWin' + str(j_sub) +'.mat'))['features']\n",
    "        y_test = np.squeeze(X_test[:, -1])\n",
    "        \n",
    "        np.random.seed(seed)\n",
    "        train_ind = np.arange(X_train.shape[0])\n",
    "        test_ind = np.arange(X_test.shape[0])\n",
    "        np.random.shuffle(train_ind)\n",
    "        np.random.shuffle(test_ind)\n",
    "        X_train = X_train[train_ind]\n",
    "        X_test = X_test[test_ind]\n",
    "        y_train = y_train[train_ind]\n",
    "        y_test = y_test[test_ind]\n",
    "        \n",
    "        print('Xtrain=%s, Xtest=%s, ytrain=%s, ytest=%s'%(X_train.shape,X_test.shape,y_train.shape, y_test.shape))\n",
    "        print(y_train.mean(), y_test.mean())\n",
    "\n",
    "        # Conv-LSTM Mode\n",
    "        print('Generating images for all time windows...')\n",
    "        images_train = np.array([gen_images(np.array(locs_2d), X_train[:, i * (3 * elNum):(i + 1) * (3 * elNum)],\n",
    "                                          32, normalize=False) for i in\n",
    "                                range(X_train.shape[1] / (3 * elNum))\n",
    "                                ])\n",
    "        images_test = np.array([gen_images(np.array(locs_2d), X_test[:, i * (3 * elNum):(i + 1) * (3 * elNum)],\n",
    "                                          32, normalize=False) for i in\n",
    "                                range(X_test.shape[1] / (3 * elNum))\n",
    "                                ])\n",
    "\n",
    "        print('\\n')\n",
    "\n",
    "    \n",
    "        # Training (LSTM)\n",
    "        print('Training the LSTM-CONV Model on {0}, testing on {1} .'.format(i_sub, j_sub) +\n",
    "                    'Params: lr={0}, l1={1}, l2={2}, dr={3}'.format(learning_rate, l1_coef, l2_coef, dropout))\n",
    "    \n",
    "        with open(file_aucs_AB, 'a') as f:\n",
    "            f.write('Auc for train on %d, test on %d: '%(i_sub, j_sub))\n",
    "        train_test(images_train, images_test, y_train, y_test,\n",
    "                            'mix', path, filename=file_aucs_AB, num_epochs=n_epochs,\n",
    "                            learning_rate=learning_rate, l1_coef=l1_coef, l2_coef=l2_coef, dropout=dropout)\n"
   ]
  },
  {
   "cell_type": "markdown",
   "metadata": {},
   "source": [
    "## Training on subjects together"
   ]
  },
  {
   "cell_type": "code",
   "execution_count": null,
   "metadata": {
    "collapsed": true
   },
   "outputs": [],
   "source": [
    "# Data aggregation for training on all choosen subjects together\n",
    "feats = scipy.io.loadmat(path_to_data + 'FeatureMat_timeWin32.mat')['features']\n",
    "print(feats.shape)\n",
    "feats = np.concatenate((feats, scipy.io.loadmat(path_to_data + 'FeatureMat_timeWin33.mat')['features']))\n",
    "feats = np.concatenate((feats, scipy.io.loadmat(path_to_data + 'FeatureMat_timeWin34.mat')['features']))\n",
    "\n",
    "labels = np.squeeze(feats[:, -1])\n",
    "print(feats.shape)\n",
    "print(feats[:,-1])"
   ]
  },
  {
   "cell_type": "code",
   "execution_count": null,
   "metadata": {
    "collapsed": true
   },
   "outputs": [],
   "source": [
    "# Training on subjects together\n",
    "n_folds = 4\n",
    "nepochs = 250\n",
    "print('Generating images for all time windows...')\n",
    "images_timewin = np.array([gen_images(np.array(locs_2d), feats[:, i * (3 * elNum):(i + 1) * (3 * elNum)],\n",
    "                                        32, normalize=False) for i in\n",
    "                            range(feats.shape[1] / (3 * elNum))\n",
    "                            ])\n",
    "print('\\n')\n",
    "\n",
    "    \n",
    "fold_pairs = []\n",
    "skf = SKFold(n_splits=n_folds, shuffle=True, random_state=1)\n",
    "np.random.seed(108)\n",
    "random.seed(108)\n",
    "for tr, ts in skf.split(images_timewin[0,:], labels):\n",
    "    random.shuffle(tr)\n",
    "    random.shuffle(ts)\n",
    "    print(len(tr), len(ts), np.sum(labels[tr]), np.sum(labels[ts]))\n",
    "    fold_pairs.append((tr,ts))\n",
    "    \n",
    "print(len(labels), np.sum(labels))\n",
    "# Training (LSTM)\n",
    "\n",
    "for params in hyperparams:\n",
    "    print('Training the LSTM-CONV Model ' +\n",
    "            'Params: lr={0}, l1={1}, l2={2}, dr={3}'.format(params[0], params[1], params[2], params[3]))\n",
    "    for fold in range(2):\n",
    "        path = os.path.join(path_to_results, '323334', str(fold)) + '/'\n",
    "        if not os.path.isdir(path):\n",
    "            os.mkdir(path)\n",
    "        print('fold:', fold)\n",
    "        train_save(images_timewin, labels, fold_pairs[fold],\n",
    "                        'mix', path, num_epochs=nepochs,\n",
    "                        learning_rate=params[0], l1_coef=params[1], l2_coef=params[2], dropout=params[3], n_timewin=4)"
   ]
  },
  {
   "cell_type": "markdown",
   "metadata": {},
   "source": [
    "## Training on different subjects"
   ]
  },
  {
   "cell_type": "code",
   "execution_count": null,
   "metadata": {
    "collapsed": true
   },
   "outputs": [],
   "source": [
    "%%time\n",
    "# Training on different subjects\n",
    "n_folds = 4\n",
    "nepochs = 250\n",
    "for subnum in subnums:\n",
    "    if not os.path.isdir(path_to_results + str(subnum)):\n",
    "        os.mkdir(path_to_results + str(subnum))\n",
    "    feats = scipy.io.loadmat(path_to_data + 'FeatureMat_timeWin' + str(subnum) +'.mat')['features']\n",
    "    labels = np.squeeze(feats[:, -1])\n",
    "    # Conv-LSTM Mode\n",
    "    print('Generating images for all time windows...')\n",
    "    images_timewin = np.array([gen_images(np.array(locs_2d), feats[:, i * (3 * elNum):(i + 1) * (3 * elNum)],\n",
    "                                          32, normalize=False) for i in\n",
    "                                range(feats.shape[1] / (3 * elNum))\n",
    "                                ])\n",
    "\n",
    "    print('\\n')\n",
    "\n",
    "    \n",
    "    fold_pairs = []\n",
    "    np.random.seed(108)\n",
    "    skf = SKFold(n_splits=n_folds, shuffle=True)\n",
    "    for tr, ts in skf.split(images_timewin[0,:], labels):\n",
    "        random.shuffle(tr)\n",
    "        random.shuffle(ts)\n",
    "        print(len(tr), len(ts), np.sum(labels[tr]), np.sum(labels[ts]))\n",
    "        fold_pairs.append((tr,ts))\n",
    "    \n",
    "    print(len(labels), np.sum(labels))\n",
    "    # Training (LSTM)\n",
    "    if subnum == 33:\n",
    "        for params in hyperparams33:\n",
    "            print('Training the LSTM-CONV Model for {0} subject.'.format(subnum) +\n",
    "                'Params: lr={0}, l1={1}, l2={2}, dr={3}'.format(params[0], params[1], params[2], params[3]))\n",
    "            for fold in range(2):\n",
    "                path = path_to_results + str(subnum) + '/' + str(fold) + '/'\n",
    "                if not os.path.isdir(path):\n",
    "                    os.mkdir(path)\n",
    "                print('fold:', fold)\n",
    "                train_save(images_timewin, labels, fold_pairs[fold],\n",
    "                            'mix', path, num_epochs=nepochs,\n",
    "                            learning_rate=params[0], l1_coef=params[1], l2_coef=params[2], dropout=params[3], n_timewin=4)\n",
    "    else:\n",
    "        for params in hyperparams:\n",
    "            print('Training the LSTM-CONV Model for {0} subject.'.format(subnum) +\n",
    "                    'Params: lr={0}, l1={1}, l2={2}, dr={3}'.format(params[0], params[1], params[2], params[3]))\n",
    "            for fold in range(2):\n",
    "                path = path_to_results + str(subnum) + '/' + str(fold) + '/'\n",
    "                if not os.path.isdir(path):\n",
    "                    os.mkdir(path)\n",
    "                print('fold:', fold)\n",
    "                train_save(images_timewin, labels, fold_pairs[fold],\n",
    "                            'mix', path, num_epochs=nepochs,\n",
    "                            learning_rate=params[0], l1_coef=params[1], l2_coef=params[2], dropout=params[3], n_timewin=4)\n"
   ]
  },
  {
   "cell_type": "markdown",
   "metadata": {},
   "source": [
    "## Plotting images"
   ]
  },
  {
   "cell_type": "code",
   "execution_count": null,
   "metadata": {
    "collapsed": true
   },
   "outputs": [],
   "source": [
    "import matplotlib.pyplot as plt\n",
    "import time"
   ]
  },
  {
   "cell_type": "code",
   "execution_count": null,
   "metadata": {
    "collapsed": true
   },
   "outputs": [],
   "source": [
    "%matplotlib inline\n",
    "subject = np.random.randint(images_train.shape[1])\n",
    "time=np.random.randint(4)\n",
    "image = np.swapaxes(images_train, 2,4)[time, subject,:]\n",
    "image = image / np.max(image) - np.min(image) / np.max(image)\n",
    "plt.imshow(image)"
   ]
  }
 ],
 "metadata": {
  "kernelspec": {
   "display_name": "Python 2",
   "language": "python",
   "name": "python2"
  },
  "language_info": {
   "codemirror_mode": {
    "name": "ipython",
    "version": 2
   },
   "file_extension": ".py",
   "mimetype": "text/x-python",
   "name": "python",
   "nbconvert_exporter": "python",
   "pygments_lexer": "ipython2",
   "version": "2.7.14"
  }
 },
 "nbformat": 4,
 "nbformat_minor": 2
}
