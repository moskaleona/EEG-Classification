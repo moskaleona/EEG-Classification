{
 "cells": [
  {
   "cell_type": "markdown",
   "metadata": {},
   "source": [
    "# Plot sorting\n",
    "Train_save function saves all plots in one directory. Sometimes it's not convenient."
   ]
  },
  {
   "cell_type": "code",
   "execution_count": null,
   "metadata": {
    "collapsed": true
   },
   "outputs": [],
   "source": [
    "import os\n",
    "from glob import glob\n",
    "import shutil\n",
    "from os.path import join as pjoin"
   ]
  },
  {
   "cell_type": "code",
   "execution_count": null,
   "metadata": {},
   "outputs": [],
   "source": [
    "path = '...'\n",
    "subnums = os.listdir(path)\n",
    "n_folds= len(os.listdir(pjoin(path, str(subnums[0]))))\n",
    "print n_folds, subnums"
   ]
  },
  {
   "cell_type": "code",
   "execution_count": null,
   "metadata": {
    "collapsed": true
   },
   "outputs": [],
   "source": [
    "paths = []\n",
    "for subnum in subnums:\n",
    "    for fold in range(n_folds):\n",
    "        paths.append(pjoin(path,str(subnum),str(fold)))\n",
    "        if not os.path.isdir(pjoin(paths[-1],'accs')):\n",
    "            os.mkdir(pjoin(paths[-1],'accs'))\n",
    "        if not os.path.isdir(pjoin(paths[-1],'aucs')):\n",
    "            os.mkdir(pjoin(paths[-1],'aucs'))\n",
    "        if not os.path.isdir(pjoin(paths[-1],'losses')):\n",
    "            os.mkdir(pjoin(paths[-1],'losses'))"
   ]
  },
  {
   "cell_type": "code",
   "execution_count": null,
   "metadata": {
    "collapsed": true
   },
   "outputs": [],
   "source": [
    "for cpath in paths:\n",
    "    os.chdir(cpath)\n",
    "    for file in glob('*loss.png'):\n",
    "        shutil.copyfile(pjoin(cpath, file), pjoin(cpath, 'losses',file))\n",
    "    for file in glob('*auc.png'):\n",
    "        shutil.copyfile(pjoin(cpath, file), pjoin(cpath,'aucs', file))\n",
    "    for file in glob('*acc.png'):\n",
    "        shutil.copyfile(pjoin(cpath, file), pjoin(cpath,'accs', file))\n",
    "    "
   ]
  }
 ],
 "metadata": {
  "kernelspec": {
   "display_name": "Python 2",
   "language": "python",
   "name": "python2"
  },
  "language_info": {
   "codemirror_mode": {
    "name": "ipython",
    "version": 2
   },
   "file_extension": ".py",
   "mimetype": "text/x-python",
   "name": "python",
   "nbconvert_exporter": "python",
   "pygments_lexer": "ipython2",
   "version": "2.7.14"
  }
 },
 "nbformat": 4,
 "nbformat_minor": 2
}
