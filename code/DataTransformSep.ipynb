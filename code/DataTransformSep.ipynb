{
 "cells": [
  {
   "cell_type": "markdown",
   "metadata": {},
   "source": [
    "## Transforming of the data separately for each subject\n",
    "This code can be used as addition to DataTransTimeWin (there the output file is single for all the data, here there are different files for different dubjects).\n",
    "\n",
    "Input: one file .mat with 2D matrix (trials x features).\n",
    "\n",
    "Output: several files .mat with the same data (onefile for one subject)."
   ]
  },
  {
   "cell_type": "code",
   "execution_count": 2,
   "metadata": {
    "collapsed": true
   },
   "outputs": [],
   "source": [
    "from __future__ import print_function\n",
    "import scipy.io\n",
    "import numpy as np"
   ]
  },
  {
   "cell_type": "code",
   "execution_count": 6,
   "metadata": {
    "collapsed": true
   },
   "outputs": [],
   "source": [
    "alldata = scipy.io.loadmat('C:/Users/alena/Desktop/homed/laba/normData/FeatureMat_timeWin.mat')['features']\n",
    "trialsubs = scipy.io.loadmat('C:/Users/alena/Desktop/homed/laba/normData/trials_subNums.mat')['subjectNum']"
   ]
  },
  {
   "cell_type": "code",
   "execution_count": 7,
   "metadata": {},
   "outputs": [
    {
     "name": "stdout",
     "output_type": "stream",
     "text": [
      "(329, 172)\n",
      "(415, 172)\n",
      "(502, 172)\n",
      "(481, 172)\n",
      "(552, 172)\n",
      "(451, 172)\n",
      "(488, 172)\n",
      "(581, 172)\n",
      "(619, 172)\n",
      "(614, 172)\n",
      "(567, 172)\n",
      "(668, 172)\n",
      "(631, 172)\n"
     ]
    }
   ],
   "source": [
    "data_per_sub = {}\n",
    "for sub_num in np.unique(np.ravel(trialsubs)):\n",
    "    data_per_sub.update({str(sub_num) : alldata[np.ravel(trialsubs)==sub_num]})\n",
    "    print(data_per_sub[str(sub_num)].shape)"
   ]
  },
  {
   "cell_type": "code",
   "execution_count": 15,
   "metadata": {},
   "outputs": [
    {
     "name": "stdout",
     "output_type": "stream",
     "text": [
      "Saving FeatureMat_timeWin25.mat\n",
      "Saving trials_subNums25.mat\n",
      "Saving FeatureMat_timeWin26.mat\n",
      "Saving trials_subNums26.mat\n",
      "Saving FeatureMat_timeWin27.mat\n",
      "Saving trials_subNums27.mat\n",
      "Saving FeatureMat_timeWin28.mat\n",
      "Saving trials_subNums28.mat\n",
      "Saving FeatureMat_timeWin29.mat\n",
      "Saving trials_subNums29.mat\n",
      "Saving FeatureMat_timeWin30.mat\n",
      "Saving trials_subNums30.mat\n",
      "Saving FeatureMat_timeWin32.mat\n",
      "Saving trials_subNums32.mat\n",
      "Saving FeatureMat_timeWin33.mat\n",
      "Saving trials_subNums33.mat\n",
      "Saving FeatureMat_timeWin34.mat\n",
      "Saving trials_subNums34.mat\n",
      "Saving FeatureMat_timeWin35.mat\n",
      "Saving trials_subNums35.mat\n",
      "Saving FeatureMat_timeWin36.mat\n",
      "Saving trials_subNums36.mat\n",
      "Saving FeatureMat_timeWin37.mat\n",
      "Saving trials_subNums37.mat\n",
      "Saving FeatureMat_timeWin38.mat\n",
      "Saving trials_subNums38.mat\n"
     ]
    }
   ],
   "source": [
    "for k in data_per_sub.keys():\n",
    "    oneSubDict = dict([('features', data_per_sub[k]), ])\n",
    "    print('Saving FeatureMat_timeWin' + k + '.mat')\n",
    "    scipy.io.savemat('C:/Users/alena/Desktop/homed/laba/dataSep/FeatureMat_timeWin' + k + '.mat', oneSubDict)\n",
    "    \n",
    "    trials_sub = np.array([int(k)] * data_per_sub[k].shape[0]).reshape(1,-1)\n",
    "    trialsSubDict = dict([('subjectNum',trials_sub), ])\n",
    "    print('Saving trials_subNums' + k + '.mat')\n",
    "    scipy.io.savemat('C:/Users/alena/Desktop/homed/laba/dataSep/trials_subNums' + k + '.mat', trialsSubDict)\n",
    "    "
   ]
  },
  {
   "cell_type": "code",
   "execution_count": 9,
   "metadata": {},
   "outputs": [
    {
     "name": "stdout",
     "output_type": "stream",
     "text": [
      "(329L, 172L)\n",
      "[  4.42465477   1.37665021   5.44263595   3.36093041   2.28907137\n",
      "   4.1446284    2.57735391   1.74195454   2.9934346    0.8566438\n",
      "   3.46303541   2.13272265   0.6581222    3.2147591    0.84064862\n",
      "   2.11038654   1.95262595   0.98343595   2.26283738  15.96572512\n",
      "   7.17984403  21.28975187  18.24521497   5.92889421  26.90642982\n",
      "  15.49738755  13.4303491   19.73498733   8.90558714  18.36705389\n",
      "  12.26371419   8.99380024  13.39593739   3.97526718   8.34088975\n",
      "   5.54088463   4.33703518   6.67495928   3.61260414   2.92331338\n",
      "   3.61748269   2.9672087    2.40929175   4.54336746   2.54355577\n",
      "   2.20156148   3.27735256   2.262913     4.25977995   2.53145471\n",
      "   2.70599818   3.00489386   2.67963398   2.93397069   2.5077421\n",
      "   2.97105757   2.74796783   8.5015174    2.31127541   5.83379178\n",
      "   8.7059812    2.18113777   5.29781348   5.37899795   4.74668663\n",
      "   4.76896301   2.13613443   2.41001807   3.76742476   2.67457381\n",
      "   2.93465853   2.815479     0.72379296   2.72418426   3.49318679\n",
      "   2.05569827   3.14706473   1.12718438   8.48494048   4.70432631\n",
      "   1.773669     7.21062806   6.00935168   4.70435278   6.78817034\n",
      "   3.44982286   6.93613104   5.7429903    4.02327429   5.67735371\n",
      "   3.79862336   3.15188646   4.54895881   4.1510482    3.77335109\n",
      "   4.39114699   3.81361993   3.72479601   4.72713352   3.89431497\n",
      "   4.00883982   4.4310147    6.28668933   3.79682839   7.24582407\n",
      "   3.53080263   3.89417002   4.533199     2.88834786   3.65005322\n",
      "   2.77932656   3.31348918   3.67647225   2.58303347   4.87390553\n",
      "   5.41110559   3.21308998   6.31289342   2.56283418   5.96892356\n",
      "   5.31763756   4.50610958   5.73806675   3.98325037   4.54979001\n",
      "   5.72898697   4.76333878   5.13956028   3.36122578   1.55891917\n",
      "   5.02814281   4.31151674   4.27322503   2.09743779   1.96429367\n",
      "   1.89757768   3.08057766   4.3891884    2.30761856   6.61534125\n",
      "   9.22270284   3.89742732   9.48037251   3.06343323   5.11918669\n",
      "   7.77166856   2.84029777   6.42021979   1.68954035   2.76807402\n",
      "   4.97864507   1.47867158   4.60361875   4.47339364   4.30022931\n",
      "   4.79171622   6.44488902   3.8218208    8.36803039   9.57304323\n",
      "   7.41045499   8.13090149   6.66252082   9.68981524   9.13224581\n",
      "   8.45801078   3.93430961   5.62984928   7.30325574   5.60601058\n",
      "   6.78554574   1.        ]\n"
     ]
    }
   ],
   "source": [
    "checkdata = scipy.io.loadmat('C:/Users/alena/Desktop/homed/laba/dataSep/FeatureMat_timeWin35.mat')['features']\n",
    "print(checkdata.shape)\n",
    "print(checkdata[0])"
   ]
  },
  {
   "cell_type": "code",
   "execution_count": 26,
   "metadata": {},
   "outputs": [
    {
     "name": "stdout",
     "output_type": "stream",
     "text": [
      "(614, 172) (567, 172) (668, 172)\n",
      "[ 1.  1.  1. ...,  2.  2.  2.]\n"
     ]
    }
   ],
   "source": [
    "# Merging data\n",
    "data1 = scipy.io.loadmat('C:/Users/alena/Desktop/homed/laba/dataSep/FeatureMat_timeWin35.mat')['features']\n",
    "data2 = scipy.io.loadmat('C:/Users/alena/Desktop/homed/laba/dataSep/FeatureMat_timeWin36.mat')['features']\n",
    "data3 = scipy.io.loadmat('C:/Users/alena/Desktop/homed/laba/dataSep/FeatureMat_timeWin37.mat')['features']\n",
    "print(data1.shape, data2.shape, data3.shape)\n",
    "data_merged = np.concatenate((data1, data2, data3), axis = 0)\n",
    "print(data_merged[:,-1])\n"
   ]
  },
  {
   "cell_type": "code",
   "execution_count": 27,
   "metadata": {},
   "outputs": [
    {
     "name": "stdout",
     "output_type": "stream",
     "text": [
      "(1, 1849)\n"
     ]
    }
   ],
   "source": [
    "dataDict = dict([('features', data_merged), ])\n",
    "scipy.io.savemat('C:/Users/alena/Desktop/homed/laba/dataSep/FeatureMat_timeWin35_36_37.mat', dataDict)\n",
    "\n",
    "trials_sub = np.array([35]*data1.shape[0]).reshape(1,-1)\n",
    "trials_sub = np.concatenate((trials_sub, np.array([36]*data2.shape[0]).reshape(1,-1)), axis=1)\n",
    "trials_sub = np.concatenate((trials_sub, np.array([37]*data3.shape[0]).reshape(1,-1)), axis=1)\n",
    "print(trials_sub.shape)\n",
    "trialsSubDict = dict([('subjectNum',trials_sub), ])\n",
    "scipy.io.savemat('C:/Users/alena/Desktop/homed/laba/dataSep/trials_subNums35_36_37.mat', trialsSubDict)"
   ]
  },
  {
   "cell_type": "code",
   "execution_count": 10,
   "metadata": {},
   "outputs": [
    {
     "name": "stdout",
     "output_type": "stream",
     "text": [
      "[25 25 25 25 25 25 25 25 25 25]\n"
     ]
    }
   ],
   "source": [
    "trials_sub = np.array([25] * 10)\n",
    "a = np.arange(10)\n",
    "print(trials_sub)"
   ]
  },
  {
   "cell_type": "code",
   "execution_count": null,
   "metadata": {
    "collapsed": true
   },
   "outputs": [],
   "source": []
  }
 ],
 "metadata": {
  "kernelspec": {
   "display_name": "Python 3",
   "language": "python",
   "name": "python3"
  },
  "language_info": {
   "codemirror_mode": {
    "name": "ipython",
    "version": 3
   },
   "file_extension": ".py",
   "mimetype": "text/x-python",
   "name": "python",
   "nbconvert_exporter": "python",
   "pygments_lexer": "ipython3",
   "version": "3.6.2"
  }
 },
 "nbformat": 4,
 "nbformat_minor": 1
}
