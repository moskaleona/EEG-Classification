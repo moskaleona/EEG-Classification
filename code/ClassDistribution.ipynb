{
 "cells": [
  {
   "cell_type": "code",
   "execution_count": 1,
   "metadata": {
    "collapsed": true
   },
   "outputs": [],
   "source": [
    "from __future__ import print_function\n",
    "import scipy.io\n",
    "import numpy as np"
   ]
  },
  {
   "cell_type": "code",
   "execution_count": 3,
   "metadata": {
    "collapsed": true
   },
   "outputs": [],
   "source": [
    "data = scipy.io.loadmat('C:/Users/alena/Desktop/homed/laba/normData/FeatureMat_timeWin.mat')['features']"
   ]
  },
  {
   "cell_type": "code",
   "execution_count": 21,
   "metadata": {},
   "outputs": [
    {
     "name": "stdout",
     "output_type": "stream",
     "text": [
      "Percent of positive class: 60.89 %\n",
      "Percent of negative class: 39.11 %\n"
     ]
    }
   ],
   "source": [
    "# Class distribution (for all subjects)\n",
    "labels = data[:,-1]\n",
    "print('Percent of positive class: {:.2f} %'.format(np.sum((labels-1))/len(labels)*100))\n",
    "print('Percent of negative class: {:.2f} %'.format(np.sum(1 - (labels-1))/len(labels)*100))"
   ]
  },
  {
   "cell_type": "code",
   "execution_count": 25,
   "metadata": {
    "collapsed": true,
    "scrolled": true
   },
   "outputs": [],
   "source": [
    "trialsubs = scipy.io.loadmat('C:/Users/alena/Desktop/homed/laba/normData/trials_subNums.mat')['subjectNum']"
   ]
  },
  {
   "cell_type": "code",
   "execution_count": 77,
   "metadata": {
    "collapsed": true
   },
   "outputs": [],
   "source": [
    "data_per_sub = {}\n",
    "for sub_num in np.unique(np.ravel(trialsubs)):\n",
    "    data_per_sub.update({str(sub_num) : labels[np.ravel(trialsubs)==sub_num]})"
   ]
  },
  {
   "cell_type": "code",
   "execution_count": 78,
   "metadata": {},
   "outputs": [
    {
     "name": "stdout",
     "output_type": "stream",
     "text": [
      "Subject number: 25\n",
      "Percent of positive class: 71.73 %\n",
      "Percent of negative class: 28.27 %\n",
      "Subject number: 26\n",
      "Percent of positive class: 77.83 %\n",
      "Percent of negative class: 22.17 %\n",
      "Subject number: 27\n",
      "Percent of positive class: 70.92 %\n",
      "Percent of negative class: 29.08 %\n",
      "Subject number: 38\n",
      "Percent of positive class: 54.83 %\n",
      "Percent of negative class: 45.17 %\n",
      "Subject number: 33\n",
      "Percent of positive class: 64.03 %\n",
      "Percent of negative class: 35.97 %\n",
      "Subject number: 32\n",
      "Percent of positive class: 84.63 %\n",
      "Percent of negative class: 15.37 %\n",
      "Subject number: 30\n",
      "Percent of positive class: 62.97 %\n",
      "Percent of negative class: 37.03 %\n",
      "Subject number: 28\n",
      "Percent of positive class: 53.22 %\n",
      "Percent of negative class: 46.78 %\n",
      "Subject number: 29\n",
      "Percent of positive class: 57.25 %\n",
      "Percent of negative class: 42.75 %\n",
      "Subject number: 35\n",
      "Percent of positive class: 49.19 %\n",
      "Percent of negative class: 50.81 %\n",
      "Subject number: 34\n",
      "Percent of positive class: 48.63 %\n",
      "Percent of negative class: 51.37 %\n",
      "Subject number: 36\n",
      "Percent of positive class: 62.08 %\n",
      "Percent of negative class: 37.92 %\n",
      "Subject number: 37\n",
      "Percent of positive class: 51.35 %\n",
      "Percent of negative class: 48.65 %\n"
     ]
    }
   ],
   "source": [
    "# Class distribution for each subject separately\n",
    "for  k in data_per_sub.keys():\n",
    "    print('Subject number:', k)\n",
    "    print('Percent of positive class: {:.2f} %'.format(np.sum((data_per_sub[k]-1))/len(data_per_sub[k])*100))\n",
    "    print('Percent of negative class: {:.2f} %'.format(np.sum(1 - (data_per_sub[k]-1))/len(data_per_sub[k])*100))"
   ]
  },
  {
   "cell_type": "code",
   "execution_count": 53,
   "metadata": {
    "collapsed": true
   },
   "outputs": [],
   "source": [
    "import matplotlib.pyplot as plt"
   ]
  },
  {
   "cell_type": "code",
   "execution_count": 42,
   "metadata": {},
   "outputs": [
    {
     "data": {
      "image/png": "[encoded data removed]",
      "text/plain": [
       "<matplotlib.figure.Figure at 0x914e668>"
      ]
     },
     "metadata": {},
     "output_type": "display_data"
    }
   ],
   "source": [
    "% matplotlib inline\n",
    "plt.hist([data[:,-1]-1,1-(data[:,-1]-1)])\n",
    "plt.show()"
   ]
  },
  {
   "cell_type": "code",
   "execution_count": null,
   "metadata": {
    "collapsed": true
   },
   "outputs": [],
   "source": []
  }
 ],
 "metadata": {
  "kernelspec": {
   "display_name": "Python 2",
   "language": "python",
   "name": "python2"
  },
  "language_info": {
   "codemirror_mode": {
    "name": "ipython",
    "version": 2
   },
   "file_extension": ".py",
   "mimetype": "text/x-python",
   "name": "python",
   "nbconvert_exporter": "python",
   "pygments_lexer": "ipython2",
   "version": "2.7.13"
  }
 },
 "nbformat": 4,
 "nbformat_minor": 2
}
