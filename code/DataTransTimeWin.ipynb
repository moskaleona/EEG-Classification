{
 "cells": [
  {
   "cell_type": "markdown",
   "metadata": {},
   "source": [
    "## Data transforming for applying EEGlearn on them\n",
    "Input: several files .mat with 3D matrix (time x channels x trials) \n",
    "Output: one file .mat with 2D matrix (trials x features)\n",
    "\n",
    "Here is a preparation of data to use EEGlearn\n",
    "https://github.com/pbashivan/EEGLearn\n",
    "as discribed in this paper:\n",
    "https://arxiv.org/abs/1511.06448"
   ]
  },
  {
   "cell_type": "code",
   "execution_count": 1,
   "metadata": {
    "collapsed": true
   },
   "outputs": [],
   "source": [
    "from __future__ import print_function\n",
    "import scipy.io\n",
    "import scipy.fftpack as sfp\n",
    "import numpy as np\n",
    "import os"
   ]
  },
  {
   "cell_type": "code",
   "execution_count": 34,
   "metadata": {
    "collapsed": true
   },
   "outputs": [],
   "source": [
    "T = 0.5 # Period of one time window (seconds)\n",
    "elNum = 19 # Number of electrodes\n",
    "win = 3 # Number of time windows\n",
    "data = []\n",
    "subNums = []\n",
    "trial_subNums = []\n",
    "dir = 'C:/Users/alena/Desktop/homed/laba/data'\n",
    "features = np.array([]).reshape(0, elNum * 3 * win + 1) # Array for features, (3 frequency bands*windows) + 1 for label"
   ]
  },
  {
   "cell_type": "code",
   "execution_count": 35,
   "metadata": {},
   "outputs": [
    {
     "name": "stdout",
     "output_type": "stream",
     "text": [
      "C:/Users/alena/Desktop/homed/laba/data/25/eegNT.mat is loaded\n",
      "C:/Users/alena/Desktop/homed/laba/data/25/eegT.mat is loaded\n",
      "C:/Users/alena/Desktop/homed/laba/data/26/eegNT.mat is loaded\n",
      "C:/Users/alena/Desktop/homed/laba/data/26/eegT.mat is loaded\n",
      "C:/Users/alena/Desktop/homed/laba/data/27/eegNT.mat is loaded\n",
      "C:/Users/alena/Desktop/homed/laba/data/27/eegT.mat is loaded\n",
      "C:/Users/alena/Desktop/homed/laba/data/28/eegNT.mat is loaded\n",
      "C:/Users/alena/Desktop/homed/laba/data/28/eegT.mat is loaded\n",
      "C:/Users/alena/Desktop/homed/laba/data/29/eegNT.mat is loaded\n",
      "C:/Users/alena/Desktop/homed/laba/data/29/eegT.mat is loaded\n",
      "C:/Users/alena/Desktop/homed/laba/data/30/eegNT.mat is loaded\n",
      "C:/Users/alena/Desktop/homed/laba/data/30/eegT.mat is loaded\n",
      "C:/Users/alena/Desktop/homed/laba/data/32/eegNT.mat is loaded\n",
      "C:/Users/alena/Desktop/homed/laba/data/32/eegT.mat is loaded\n",
      "C:/Users/alena/Desktop/homed/laba/data/33/eegNT.mat is loaded\n",
      "C:/Users/alena/Desktop/homed/laba/data/33/eegT.mat is loaded\n",
      "C:/Users/alena/Desktop/homed/laba/data/34/eegNT.mat is loaded\n",
      "C:/Users/alena/Desktop/homed/laba/data/34/eegT.mat is loaded\n",
      "C:/Users/alena/Desktop/homed/laba/data/35/eegNT.mat is loaded\n",
      "C:/Users/alena/Desktop/homed/laba/data/35/eegT.mat is loaded\n",
      "C:/Users/alena/Desktop/homed/laba/data/36/eegNT.mat is loaded\n",
      "C:/Users/alena/Desktop/homed/laba/data/36/eegT.mat is loaded\n",
      "C:/Users/alena/Desktop/homed/laba/data/37/eegNT.mat is loaded\n",
      "C:/Users/alena/Desktop/homed/laba/data/37/eegT.mat is loaded\n",
      "C:/Users/alena/Desktop/homed/laba/data/38/eegNT.mat is loaded\n",
      "C:/Users/alena/Desktop/homed/laba/data/38/eegT.mat is loaded\n"
     ]
    }
   ],
   "source": [
    "for subdir in os.listdir(dir):\n",
    "    for file in os.listdir(dir + '/' + subdir):\n",
    "        subNums.append(int(subdir))\n",
    "        data.append(scipy.io.loadmat(dir + '/' + subdir + '/' + file))\n",
    "        print(dir + '/' + subdir + '/' + file + ' is loaded')"
   ]
  },
  {
   "cell_type": "code",
   "execution_count": null,
   "metadata": {},
   "outputs": [
    {
     "name": "stdout",
     "output_type": "stream",
     "text": [
      "Starting making 2D array from data...\n",
      "!.............................................................................................\n",
      "!............................................................................................................................................................................................................................................\n",
      "!............................................................................................\n",
      "!...................................................................................................................................................................................................................................................................................................................................\n",
      "!..................................................................................................................................................\n",
      "!....................................................................................................................................................................................................................................................................................................................................................................\n",
      "!.................................................................................................................................................................................................................................\n",
      "!................................................................................................................................................................................................................................................................\n",
      "!............................................................................................................................................................................................................................................\n",
      "!............................................................................................................................................................................................................................................................................................................................\n",
      "!.......................................................................................................................................................................\n",
      "!............................................................................................................................................................................................................................................................................................\n",
      "!...........................................................................\n",
      "!.............................................................................................................................................................................................................................................................................................................................................................................................................................\n",
      "!.................................................................................................................................................................................................................\n",
      "!....................................................................................................................................................................................................................................................................................................................................................................................\n",
      "!..............................................................................................................................................................................................................................................................................................................................\n",
      "!.............................................................................................................................................................................................................................................................................................................\n",
      "!........................................................................................................................................................................................................................................................................................................................\n",
      "!..............................................................................................................................................................................................................................................................................................................\n",
      "!.......................................................................................................................................................................................................................\n",
      "!................................................................................................................................................................................................................................................................................................................................................................\n",
      "!.....................................................................................................................................................................................................................................................................................................................................\n",
      "!.......................................................................................................................................................................................................................................................................................................................................................\n",
      "!.............................................................................................................................................................................................................................................................................................\n",
      "!..........................................................................................................................................................................................................................................................................................................................................................\n",
      "Array is made!\n"
     ]
    }
   ],
   "source": [
    "print('Starting making 2D array from data...')\n",
    "for i in range(len(data)):\n",
    "    dic = data[i]\n",
    "    label = 1 if 'eegT' in dic.keys() else 0\n",
    "    matrix = dic.get('eegT') if label == 1 else dic.get('eegNT')   \n",
    "    N = matrix.shape[0]//win # Number of points for one time window\n",
    "    if elNum != matrix.shape[1]:\n",
    "        raise elNumException('Wrong number of electrodes!')\n",
    "    line = np.zeros((1,elNum*3*win + 1), dtype = 'float64') # (3 frequency bands (theta, alpha, beta)*windows) plus 1 \n",
    "                                                            # for label\n",
    "    \n",
    "    for _ in range(matrix.shape[2]):\n",
    "        trial_subNums.append(subNums[i]) # subject numbers associated with each trial (for leave-subject-out\n",
    "                                         #  cross validation).\n",
    "        \n",
    "    print('!',end='')\n",
    "    for trialNum in range(matrix.shape[2]):\n",
    "        for el in range(elNum):\n",
    "            trial = matrix[:, el, trialNum]\n",
    "            for w in range(win):\n",
    "                timewin = trial[w * N : (w+1) * N]\n",
    "                # trial -= np.mean(trial) to get rid of zero frequency in fft (e.g. for visualization of fft)\n",
    "                A = abs(sfp.fft(timewin))/N # Real amplitudes of sinusoids\n",
    "                Hz = np.array([k/T for k in range(N)]) # Frequences in hertz\n",
    "                # Computing the sum of squared absolute values within each of the three\n",
    "                # frequency bands of theta (4-7Hz), alpha (8-13Hz), and beta(13-30Hz)\n",
    "                theta = ((A[[np.all([Hz[k] < 7, Hz[k] >= 4]) for k in range(N)]])**2).sum()\n",
    "                alpha = ((A[[np.all([Hz[k] < 13, Hz[k] >= 7]) for k in range(N)]])**2).sum()\n",
    "                beta = ((A[[np.all([Hz[k] <= 30, Hz[k] >= 13]) for k in range(N)]])**2).sum()\n",
    "                line[:,elNum*3*w + el], line[:,elNum*(3*w + 1)+ el], line[:,elNum*(3*w + 2)+ el] = theta, alpha, beta\n",
    "        line[:,-1] = label\n",
    "        features = np.concatenate((features, line))\n",
    "        print('.',end='')\n",
    "    print()\n",
    "print('Array is made!')"
   ]
  },
  {
   "cell_type": "code",
   "execution_count": 37,
   "metadata": {},
   "outputs": [
    {
     "name": "stdout",
     "output_type": "stream",
     "text": [
      "Saving FeatureMat_timeWin.mat...\n",
      "Saving trial_subNums.mat...\n"
     ]
    }
   ],
   "source": [
    "print('Saving FeatureMat_timeWin.mat...')\n",
    "featureMatrix = np.array(features, ndmin =2)\n",
    "featureDict = dict([('features', featureMatrix), ])\n",
    "scipy.io.savemat('C:/Users/alena/Desktop/homed/laba/normData/FeatureMat_timeWin.mat', featureDict)\n",
    "\n",
    "print('Saving trial_subNums.mat...')\n",
    "trial_subMatrix = np.array(trial_subNums, ndmin =2)\n",
    "trial_subDict = dict([('subjectNum', trial_subMatrix), ])\n",
    "scipy.io.savemat('C:/Users/alena/Desktop/homed/laba/normData/trials_subNums.mat', trial_subDict)"
   ]
  },
  {
   "cell_type": "code",
   "execution_count": null,
   "metadata": {
    "collapsed": true
   },
   "outputs": [],
   "source": []
  }
 ],
 "metadata": {
  "kernelspec": {
   "display_name": "Python 2",
   "language": "python",
   "name": "python2"
  },
  "language_info": {
   "codemirror_mode": {
    "name": "ipython",
    "version": 2
   },
   "file_extension": ".py",
   "mimetype": "text/x-python",
   "name": "python",
   "nbconvert_exporter": "python",
   "pygments_lexer": "ipython2",
   "version": "2.7.13"
  }
 },
 "nbformat": 4,
 "nbformat_minor": 2
}
